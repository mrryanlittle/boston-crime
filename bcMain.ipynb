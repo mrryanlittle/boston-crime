{
 "cells": [
  {
   "cell_type": "code",
   "execution_count": 2,
   "id": "7a91976c",
   "metadata": {},
   "outputs": [],
   "source": [
    "# import libraries\n",
    "import pandas as pd"
   ]
  },
  {
   "cell_type": "code",
   "execution_count": 3,
   "metadata": {},
   "outputs": [],
   "source": [
    "# read data\n",
    "crime_data = pd.read_csv('data/input/crime.csv')"
   ]
  },
  {
   "cell_type": "code",
   "execution_count": 4,
   "metadata": {},
   "outputs": [
    {
     "output_type": "execute_result",
     "data": {
      "text/plain": [
       "INCIDENT_NUMBER         object\n",
       "OFFENSE_CODE             int64\n",
       "OFFENSE_CODE_GROUP      object\n",
       "OFFENSE_DESCRIPTION     object\n",
       "DISTRICT                object\n",
       "REPORTING_AREA          object\n",
       "SHOOTING                object\n",
       "OCCURRED_ON_DATE        object\n",
       "YEAR                     int64\n",
       "MONTH                    int64\n",
       "DAY_OF_WEEK             object\n",
       "HOUR                     int64\n",
       "UCR_PART                object\n",
       "STREET                  object\n",
       "Lat                    float64\n",
       "Long                   float64\n",
       "Location                object\n",
       "dtype: object"
      ]
     },
     "metadata": {},
     "execution_count": 4
    }
   ],
   "source": [
    "# find the data types\n",
    "crime_data.dtypes"
   ]
  },
  {
   "cell_type": "code",
   "execution_count": 5,
   "metadata": {},
   "outputs": [
    {
     "output_type": "execute_result",
     "data": {
      "text/plain": [
       "INCIDENT_NUMBER             0\n",
       "OFFENSE_CODE                0\n",
       "OFFENSE_CODE_GROUP          0\n",
       "OFFENSE_DESCRIPTION         0\n",
       "DISTRICT                 1765\n",
       "REPORTING_AREA              0\n",
       "SHOOTING               318054\n",
       "OCCURRED_ON_DATE            0\n",
       "YEAR                        0\n",
       "MONTH                       0\n",
       "DAY_OF_WEEK                 0\n",
       "HOUR                        0\n",
       "UCR_PART                   90\n",
       "STREET                  10871\n",
       "Lat                     19999\n",
       "Long                    19999\n",
       "Location                    0\n",
       "dtype: int64"
      ]
     },
     "metadata": {},
     "execution_count": 5
    }
   ],
   "source": [
    "# find missing values\n",
    "crime_data.isnull().sum()"
   ]
  },
  {
   "cell_type": "code",
   "execution_count": 8,
   "metadata": {},
   "outputs": [
    {
     "output_type": "execute_result",
     "data": {
      "text/plain": [
       "NaN    318054\n",
       "Y        1019\n",
       "Name: SHOOTING, dtype: int64"
      ]
     },
     "metadata": {},
     "execution_count": 8
    }
   ],
   "source": [
    "# NaN values are the same as NO shooting happened\n",
    "crime_data.SHOOTING.value_counts(dropna=False)"
   ]
  },
  {
   "cell_type": "code",
   "execution_count": 13,
   "metadata": {},
   "outputs": [
    {
     "output_type": "execute_result",
     "data": {
      "text/plain": [
       "False    318054\n",
       "True       1019\n",
       "Name: SHOOTING, dtype: int64"
      ]
     },
     "metadata": {},
     "execution_count": 13
    }
   ],
   "source": [
    "# Fill NaN values (na) with N, as in NO shooting took place. Then replace the N and Y, with False for NO shooting and True for YES shooting took place\n",
    "crime_data.SHOOTING.fillna('N', inplace=True)\n",
    "crime_data.SHOOTING.replace({'Y':True, 'N':False}, inplace=True)\n",
    "# Did it work?\n",
    "crime_data.SHOOTING.value_counts(dropna=False)"
   ]
  },
  {
   "cell_type": "code",
   "execution_count": 15,
   "metadata": {},
   "outputs": [
    {
     "output_type": "execute_result",
     "data": {
      "text/plain": [
       "WASHINGTON ST           14194\n",
       "NaN                     10871\n",
       "BLUE HILL AVE            7794\n",
       "BOYLSTON ST              7221\n",
       "DORCHESTER AVE           5149\n",
       "                        ...  \n",
       "ABBOT ST BSTN               1\n",
       "CLARE                       1\n",
       "BLUE HILL AVSCHUYLER        1\n",
       "READVILLE                   1\n",
       "PUBLIC ALLEY NO 430         1\n",
       "Name: STREET, Length: 4658, dtype: int64"
      ]
     },
     "metadata": {},
     "execution_count": 15
    }
   ],
   "source": [
    "# Find missing values in STREET column\n",
    "crime_data.STREET.value_counts(dropna=False)"
   ]
  },
  {
   "cell_type": "code",
   "execution_count": 17,
   "metadata": {},
   "outputs": [
    {
     "output_type": "execute_result",
     "data": {
      "text/plain": [
       "(0.00000000, 0.00000000)       19999\n",
       "(42.34862382, -71.08277637)     1243\n",
       "(42.36183857, -71.05976489)     1208\n",
       "(42.28482577, -71.09137369)     1121\n",
       "(42.32866284, -71.08563401)     1042\n",
       "                               ...  \n",
       "(42.32396068, -71.10535323)        1\n",
       "(42.34873640, -71.16596814)        1\n",
       "(42.32194733, -71.10280115)        1\n",
       "(42.37588042, -71.05901516)        1\n",
       "(42.35805637, -71.05228147)        1\n",
       "Name: Location, Length: 18194, dtype: int64"
      ]
     },
     "metadata": {},
     "execution_count": 17
    }
   ],
   "source": [
    "crime_data.Location.value_counts(dropna=False)"
   ]
  },
  {
   "cell_type": "code",
   "execution_count": null,
   "metadata": {},
   "outputs": [],
   "source": []
  }
 ],
 "metadata": {
  "kernelspec": {
   "name": "python3",
   "display_name": "Python 3.8.8 64-bit ('base': conda)"
  },
  "language_info": {
   "codemirror_mode": {
    "name": "ipython",
    "version": 3
   },
   "file_extension": ".py",
   "mimetype": "text/x-python",
   "name": "python",
   "nbconvert_exporter": "python",
   "pygments_lexer": "ipython3",
   "version": "3.8.8"
  },
  "interpreter": {
   "hash": "b3ba2566441a7c06988d0923437866b63cedc61552a5af99d1f4fb67d367b25f"
  }
 },
 "nbformat": 4,
 "nbformat_minor": 5
}