{
 "cells": [
  {
   "cell_type": "code",
   "execution_count": 1,
   "id": "7a91976c",
   "metadata": {},
   "outputs": [],
   "source": [
    "# import libraries\n",
    "import pandas as pd"
   ]
  },
  {
   "cell_type": "code",
   "execution_count": 3,
   "metadata": {},
   "outputs": [],
   "source": [
    "# read data\n",
    "crime_data = pd.read_csv('data/input/crime.csv')"
   ]
  },
  {
   "cell_type": "code",
   "execution_count": 4,
   "metadata": {},
   "outputs": [
    {
     "output_type": "execute_result",
     "data": {
      "text/plain": [
       "INCIDENT_NUMBER         object\n",
       "OFFENSE_CODE             int64\n",
       "OFFENSE_CODE_GROUP      object\n",
       "OFFENSE_DESCRIPTION     object\n",
       "DISTRICT                object\n",
       "REPORTING_AREA          object\n",
       "SHOOTING                object\n",
       "OCCURRED_ON_DATE        object\n",
       "YEAR                     int64\n",
       "MONTH                    int64\n",
       "DAY_OF_WEEK             object\n",
       "HOUR                     int64\n",
       "UCR_PART                object\n",
       "STREET                  object\n",
       "Lat                    float64\n",
       "Long                   float64\n",
       "Location                object\n",
       "dtype: object"
      ]
     },
     "metadata": {},
     "execution_count": 4
    }
   ],
   "source": [
    "# find the data types\n",
    "crime_data.dtypes"
   ]
  },
  {
   "cell_type": "code",
   "execution_count": null,
   "metadata": {},
   "outputs": [],
   "source": []
  }
 ],
 "metadata": {
  "kernelspec": {
   "name": "python3",
   "display_name": "Python 3.8.8 64-bit ('base': conda)"
  },
  "language_info": {
   "codemirror_mode": {
    "name": "ipython",
    "version": 3
   },
   "file_extension": ".py",
   "mimetype": "text/x-python",
   "name": "python",
   "nbconvert_exporter": "python",
   "pygments_lexer": "ipython3",
   "version": "3.8.8"
  },
  "interpreter": {
   "hash": "b3ba2566441a7c06988d0923437866b63cedc61552a5af99d1f4fb67d367b25f"
  }
 },
 "nbformat": 4,
 "nbformat_minor": 5
}