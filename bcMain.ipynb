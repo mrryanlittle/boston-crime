{
 "cells": [
  {
   "cell_type": "code",
   "execution_count": 1,
   "id": "7a91976c",
   "metadata": {},
   "outputs": [],
   "source": [
    "# import libraries\n",
    "import pandas as pd"
   ]
  },
  {
   "cell_type": "code",
   "execution_count": 2,
   "metadata": {},
   "outputs": [],
   "source": [
    "# read data\n",
    "crime_data = pd.read_csv('data/input/crime.csv')"
   ]
  },
  {
   "cell_type": "code",
   "execution_count": 3,
   "metadata": {},
   "outputs": [
    {
     "output_type": "execute_result",
     "data": {
      "text/plain": [
       "INCIDENT_NUMBER         object\n",
       "OFFENSE_CODE             int64\n",
       "OFFENSE_CODE_GROUP      object\n",
       "OFFENSE_DESCRIPTION     object\n",
       "DISTRICT                object\n",
       "REPORTING_AREA          object\n",
       "SHOOTING                object\n",
       "OCCURRED_ON_DATE        object\n",
       "YEAR                     int64\n",
       "MONTH                    int64\n",
       "DAY_OF_WEEK             object\n",
       "HOUR                     int64\n",
       "UCR_PART                object\n",
       "STREET                  object\n",
       "Lat                    float64\n",
       "Long                   float64\n",
       "Location                object\n",
       "dtype: object"
      ]
     },
     "metadata": {},
     "execution_count": 3
    }
   ],
   "source": [
    "# find the data types\n",
    "crime_data.dtypes"
   ]
  },
  {
   "cell_type": "code",
   "execution_count": 4,
   "metadata": {},
   "outputs": [
    {
     "output_type": "execute_result",
     "data": {
      "text/plain": [
       "INCIDENT_NUMBER             0\n",
       "OFFENSE_CODE                0\n",
       "OFFENSE_CODE_GROUP          0\n",
       "OFFENSE_DESCRIPTION         0\n",
       "DISTRICT                 1765\n",
       "REPORTING_AREA              0\n",
       "SHOOTING               318054\n",
       "OCCURRED_ON_DATE            0\n",
       "YEAR                        0\n",
       "MONTH                       0\n",
       "DAY_OF_WEEK                 0\n",
       "HOUR                        0\n",
       "UCR_PART                   90\n",
       "STREET                  10871\n",
       "Lat                     19999\n",
       "Long                    19999\n",
       "Location                    0\n",
       "dtype: int64"
      ]
     },
     "metadata": {},
     "execution_count": 4
    }
   ],
   "source": [
    "# find missing values\n",
    "crime_data.isnull().sum()"
   ]
  },
  {
   "cell_type": "code",
   "execution_count": 5,
   "metadata": {},
   "outputs": [
    {
     "output_type": "execute_result",
     "data": {
      "text/plain": [
       "NaN    318054\n",
       "Y        1019\n",
       "Name: SHOOTING, dtype: int64"
      ]
     },
     "metadata": {},
     "execution_count": 5
    }
   ],
   "source": [
    "# NaN values are the same as NO shooting happened\n",
    "crime_data.SHOOTING.value_counts(dropna=False)"
   ]
  },
  {
   "cell_type": "code",
   "execution_count": 6,
   "metadata": {},
   "outputs": [
    {
     "output_type": "execute_result",
     "data": {
      "text/plain": [
       "False    318054\n",
       "True       1019\n",
       "Name: SHOOTING, dtype: int64"
      ]
     },
     "metadata": {},
     "execution_count": 6
    }
   ],
   "source": [
    "# Fill NaN values (na) with N, as in NO shooting took place. Then replace the N and Y, with False for NO shooting and True for YES shooting took place\n",
    "crime_data.SHOOTING.fillna('N', inplace=True)\n",
    "crime_data.SHOOTING.replace({'Y':True, 'N':False}, inplace=True)\n",
    "# Did it work?\n",
    "crime_data.SHOOTING.value_counts(dropna=False)"
   ]
  },
  {
   "cell_type": "code",
   "execution_count": 7,
   "metadata": {},
   "outputs": [
    {
     "output_type": "execute_result",
     "data": {
      "text/plain": [
       "WASHINGTON ST     14194\n",
       "NaN               10871\n",
       "BLUE HILL AVE      7794\n",
       "BOYLSTON ST        7221\n",
       "DORCHESTER AVE     5149\n",
       "                  ...  \n",
       "186 HEATH ST          1\n",
       "INDIA ROW             1\n",
       "LAMARTINE PL          1\n",
       "COLBERT ST            1\n",
       "HAVANA ST             1\n",
       "Name: STREET, Length: 4658, dtype: int64"
      ]
     },
     "metadata": {},
     "execution_count": 7
    }
   ],
   "source": [
    "# Find missing values in STREET column\n",
    "crime_data.STREET.value_counts(dropna=False)"
   ]
  },
  {
   "cell_type": "code",
   "execution_count": 8,
   "metadata": {},
   "outputs": [
    {
     "output_type": "execute_result",
     "data": {
      "text/plain": [
       "(0.00000000, 0.00000000)       19999\n",
       "(42.34862382, -71.08277637)     1243\n",
       "(42.36183857, -71.05976489)     1208\n",
       "(42.28482577, -71.09137369)     1121\n",
       "(42.32866284, -71.08563401)     1042\n",
       "                               ...  \n",
       "(42.28936644, -71.16454623)        1\n",
       "(42.37010008, -71.03987732)        1\n",
       "(42.36225923, -71.12861067)        1\n",
       "(42.36038437, -71.14005529)        1\n",
       "(42.28371440, -71.15696623)        1\n",
       "Name: Location, Length: 18194, dtype: int64"
      ]
     },
     "metadata": {},
     "execution_count": 8
    }
   ],
   "source": [
    "crime_data.Location.value_counts(dropna=False)"
   ]
  },
  {
   "cell_type": "code",
   "execution_count": 13,
   "metadata": {},
   "outputs": [
    {
     "output_type": "execute_result",
     "data": {
      "text/plain": [
       "I162030584    13\n",
       "I152080623    11\n",
       "I182065208    10\n",
       "I172096394    10\n",
       "I172013170    10\n",
       "              ..\n",
       "I172020655     1\n",
       "I182025730     1\n",
       "I162056738     1\n",
       "I172055559     1\n",
       "I152075231     1\n",
       "Name: INCIDENT_NUMBER, Length: 282517, dtype: int64"
      ]
     },
     "metadata": {},
     "execution_count": 13
    }
   ],
   "source": [
    "crime_data.INCIDENT_NUMBER.value_counts(dropna=False)"
   ]
  },
  {
   "cell_type": "code",
   "execution_count": 25,
   "metadata": {},
   "outputs": [
    {
     "output_type": "execute_result",
     "data": {
      "text/plain": [
       "                                          154804  \\\n",
       "INCIDENT_NUMBER                       I172013170   \n",
       "OFFENSE_CODE                                 423   \n",
       "OFFENSE_CODE_GROUP            Aggravated Assault   \n",
       "OFFENSE_DESCRIPTION         ASSAULT - AGGRAVATED   \n",
       "DISTRICT                                      D4   \n",
       "REPORTING_AREA                               171   \n",
       "SHOOTING                                   False   \n",
       "OCCURRED_ON_DATE             2017-02-17 17:45:00   \n",
       "YEAR                                        2017   \n",
       "MONTH                                          2   \n",
       "DAY_OF_WEEK                               Friday   \n",
       "HOUR                                          17   \n",
       "UCR_PART                                Part One   \n",
       "STREET                              HARRISON AVE   \n",
       "Lat                                    42.335119   \n",
       "Long                                  -71.074917   \n",
       "Location             (42.33511904, -71.07491710)   \n",
       "\n",
       "                                                   154805  \\\n",
       "INCIDENT_NUMBER                                I172013170   \n",
       "OFFENSE_CODE                                         1842   \n",
       "OFFENSE_CODE_GROUP                         Drug Violation   \n",
       "OFFENSE_DESCRIPTION  DRUGS - POSS CLASS A - HEROIN, ETC.    \n",
       "DISTRICT                                               D4   \n",
       "REPORTING_AREA                                        171   \n",
       "SHOOTING                                            False   \n",
       "OCCURRED_ON_DATE                      2017-02-17 17:45:00   \n",
       "YEAR                                                 2017   \n",
       "MONTH                                                   2   \n",
       "DAY_OF_WEEK                                        Friday   \n",
       "HOUR                                                   17   \n",
       "UCR_PART                                         Part Two   \n",
       "STREET                                       HARRISON AVE   \n",
       "Lat                                             42.335119   \n",
       "Long                                           -71.074917   \n",
       "Location                      (42.33511904, -71.07491710)   \n",
       "\n",
       "                                          154806  \\\n",
       "INCIDENT_NUMBER                       I172013170   \n",
       "OFFENSE_CODE                                1846   \n",
       "OFFENSE_CODE_GROUP                Drug Violation   \n",
       "OFFENSE_DESCRIPTION         DRUGS - POSS CLASS E   \n",
       "DISTRICT                                      D4   \n",
       "REPORTING_AREA                               171   \n",
       "SHOOTING                                   False   \n",
       "OCCURRED_ON_DATE             2017-02-17 17:45:00   \n",
       "YEAR                                        2017   \n",
       "MONTH                                          2   \n",
       "DAY_OF_WEEK                               Friday   \n",
       "HOUR                                          17   \n",
       "UCR_PART                                Part Two   \n",
       "STREET                              HARRISON AVE   \n",
       "Lat                                    42.335119   \n",
       "Long                                  -71.074917   \n",
       "Location             (42.33511904, -71.07491710)   \n",
       "\n",
       "                                                   154807  \\\n",
       "INCIDENT_NUMBER                                I172013170   \n",
       "OFFENSE_CODE                                         1849   \n",
       "OFFENSE_CODE_GROUP                         Drug Violation   \n",
       "OFFENSE_DESCRIPTION  DRUGS - POSS CLASS B - COCAINE, ETC.   \n",
       "DISTRICT                                               D4   \n",
       "REPORTING_AREA                                        171   \n",
       "SHOOTING                                            False   \n",
       "OCCURRED_ON_DATE                      2017-02-17 17:45:00   \n",
       "YEAR                                                 2017   \n",
       "MONTH                                                   2   \n",
       "DAY_OF_WEEK                                        Friday   \n",
       "HOUR                                                   17   \n",
       "UCR_PART                                         Part Two   \n",
       "STREET                                       HARRISON AVE   \n",
       "Lat                                             42.335119   \n",
       "Long                                           -71.074917   \n",
       "Location                      (42.33511904, -71.07491710)   \n",
       "\n",
       "                                          154808                       154809  \\\n",
       "INCIDENT_NUMBER                       I172013170                   I172013170   \n",
       "OFFENSE_CODE                                2610                         3125   \n",
       "OFFENSE_CODE_GROUP                         Other              Warrant Arrests   \n",
       "OFFENSE_DESCRIPTION                  TRESPASSING               WARRANT ARREST   \n",
       "DISTRICT                                      D4                           D4   \n",
       "REPORTING_AREA                               171                          171   \n",
       "SHOOTING                                   False                        False   \n",
       "OCCURRED_ON_DATE             2017-02-17 17:45:00          2017-02-17 17:45:00   \n",
       "YEAR                                        2017                         2017   \n",
       "MONTH                                          2                            2   \n",
       "DAY_OF_WEEK                               Friday                       Friday   \n",
       "HOUR                                          17                           17   \n",
       "UCR_PART                                Part Two                   Part Three   \n",
       "STREET                              HARRISON AVE                 HARRISON AVE   \n",
       "Lat                                    42.335119                    42.335119   \n",
       "Long                                  -71.074917                   -71.074917   \n",
       "Location             (42.33511904, -71.07491710)  (42.33511904, -71.07491710)   \n",
       "\n",
       "                                          154810  \\\n",
       "INCIDENT_NUMBER                       I172013170   \n",
       "OFFENSE_CODE                                 802   \n",
       "OFFENSE_CODE_GROUP                Simple Assault   \n",
       "OFFENSE_DESCRIPTION     ASSAULT SIMPLE - BATTERY   \n",
       "DISTRICT                                      D4   \n",
       "REPORTING_AREA                               171   \n",
       "SHOOTING                                   False   \n",
       "OCCURRED_ON_DATE             2017-02-17 17:45:00   \n",
       "YEAR                                        2017   \n",
       "MONTH                                          2   \n",
       "DAY_OF_WEEK                               Friday   \n",
       "HOUR                                          17   \n",
       "UCR_PART                                Part Two   \n",
       "STREET                              HARRISON AVE   \n",
       "Lat                                    42.335119   \n",
       "Long                                  -71.074917   \n",
       "Location             (42.33511904, -71.07491710)   \n",
       "\n",
       "                                                                154811  \\\n",
       "INCIDENT_NUMBER                                             I172013170   \n",
       "OFFENSE_CODE                                                      1300   \n",
       "OFFENSE_CODE_GROUP                           Recovered Stolen Property   \n",
       "OFFENSE_DESCRIPTION  STOLEN PROPERTY - BUYING / RECEIVING / POSSESSING   \n",
       "DISTRICT                                                            D4   \n",
       "REPORTING_AREA                                                     171   \n",
       "SHOOTING                                                         False   \n",
       "OCCURRED_ON_DATE                                   2017-02-17 17:45:00   \n",
       "YEAR                                                              2017   \n",
       "MONTH                                                                2   \n",
       "DAY_OF_WEEK                                                     Friday   \n",
       "HOUR                                                                17   \n",
       "UCR_PART                                                      Part Two   \n",
       "STREET                                                    HARRISON AVE   \n",
       "Lat                                                          42.335119   \n",
       "Long                                                        -71.074917   \n",
       "Location                                   (42.33511904, -71.07491710)   \n",
       "\n",
       "                                                          154812  \\\n",
       "INCIDENT_NUMBER                                       I172013170   \n",
       "OFFENSE_CODE                                                1503   \n",
       "OFFENSE_CODE_GROUP                            Firearm Violations   \n",
       "OFFENSE_DESCRIPTION  WEAPON - OTHER - CARRYING / POSSESSING, ETC   \n",
       "DISTRICT                                                      D4   \n",
       "REPORTING_AREA                                               171   \n",
       "SHOOTING                                                   False   \n",
       "OCCURRED_ON_DATE                             2017-02-17 17:45:00   \n",
       "YEAR                                                        2017   \n",
       "MONTH                                                          2   \n",
       "DAY_OF_WEEK                                               Friday   \n",
       "HOUR                                                          17   \n",
       "UCR_PART                                                Part Two   \n",
       "STREET                                              HARRISON AVE   \n",
       "Lat                                                    42.335119   \n",
       "Long                                                  -71.074917   \n",
       "Location                             (42.33511904, -71.07491710)   \n",
       "\n",
       "                                          154813  \n",
       "INCIDENT_NUMBER                       I172013170  \n",
       "OFFENSE_CODE                                2619  \n",
       "OFFENSE_CODE_GROUP    Prisoner Related Incidents  \n",
       "OFFENSE_DESCRIPTION        FUGITIVE FROM JUSTICE  \n",
       "DISTRICT                                      D4  \n",
       "REPORTING_AREA                               171  \n",
       "SHOOTING                                   False  \n",
       "OCCURRED_ON_DATE             2017-02-17 17:45:00  \n",
       "YEAR                                        2017  \n",
       "MONTH                                          2  \n",
       "DAY_OF_WEEK                               Friday  \n",
       "HOUR                                          17  \n",
       "UCR_PART                                Part Two  \n",
       "STREET                              HARRISON AVE  \n",
       "Lat                                    42.335119  \n",
       "Long                                  -71.074917  \n",
       "Location             (42.33511904, -71.07491710)  "
      ],
      "text/html": "<div>\n<style scoped>\n    .dataframe tbody tr th:only-of-type {\n        vertical-align: middle;\n    }\n\n    .dataframe tbody tr th {\n        vertical-align: top;\n    }\n\n    .dataframe thead th {\n        text-align: right;\n    }\n</style>\n<table border=\"1\" class=\"dataframe\">\n  <thead>\n    <tr style=\"text-align: right;\">\n      <th></th>\n      <th>154804</th>\n      <th>154805</th>\n      <th>154806</th>\n      <th>154807</th>\n      <th>154808</th>\n      <th>154809</th>\n      <th>154810</th>\n      <th>154811</th>\n      <th>154812</th>\n      <th>154813</th>\n    </tr>\n  </thead>\n  <tbody>\n    <tr>\n      <th>INCIDENT_NUMBER</th>\n      <td>I172013170</td>\n      <td>I172013170</td>\n      <td>I172013170</td>\n      <td>I172013170</td>\n      <td>I172013170</td>\n      <td>I172013170</td>\n      <td>I172013170</td>\n      <td>I172013170</td>\n      <td>I172013170</td>\n      <td>I172013170</td>\n    </tr>\n    <tr>\n      <th>OFFENSE_CODE</th>\n      <td>423</td>\n      <td>1842</td>\n      <td>1846</td>\n      <td>1849</td>\n      <td>2610</td>\n      <td>3125</td>\n      <td>802</td>\n      <td>1300</td>\n      <td>1503</td>\n      <td>2619</td>\n    </tr>\n    <tr>\n      <th>OFFENSE_CODE_GROUP</th>\n      <td>Aggravated Assault</td>\n      <td>Drug Violation</td>\n      <td>Drug Violation</td>\n      <td>Drug Violation</td>\n      <td>Other</td>\n      <td>Warrant Arrests</td>\n      <td>Simple Assault</td>\n      <td>Recovered Stolen Property</td>\n      <td>Firearm Violations</td>\n      <td>Prisoner Related Incidents</td>\n    </tr>\n    <tr>\n      <th>OFFENSE_DESCRIPTION</th>\n      <td>ASSAULT - AGGRAVATED</td>\n      <td>DRUGS - POSS CLASS A - HEROIN, ETC.</td>\n      <td>DRUGS - POSS CLASS E</td>\n      <td>DRUGS - POSS CLASS B - COCAINE, ETC.</td>\n      <td>TRESPASSING</td>\n      <td>WARRANT ARREST</td>\n      <td>ASSAULT SIMPLE - BATTERY</td>\n      <td>STOLEN PROPERTY - BUYING / RECEIVING / POSSESSING</td>\n      <td>WEAPON - OTHER - CARRYING / POSSESSING, ETC</td>\n      <td>FUGITIVE FROM JUSTICE</td>\n    </tr>\n    <tr>\n      <th>DISTRICT</th>\n      <td>D4</td>\n      <td>D4</td>\n      <td>D4</td>\n      <td>D4</td>\n      <td>D4</td>\n      <td>D4</td>\n      <td>D4</td>\n      <td>D4</td>\n      <td>D4</td>\n      <td>D4</td>\n    </tr>\n    <tr>\n      <th>REPORTING_AREA</th>\n      <td>171</td>\n      <td>171</td>\n      <td>171</td>\n      <td>171</td>\n      <td>171</td>\n      <td>171</td>\n      <td>171</td>\n      <td>171</td>\n      <td>171</td>\n      <td>171</td>\n    </tr>\n    <tr>\n      <th>SHOOTING</th>\n      <td>False</td>\n      <td>False</td>\n      <td>False</td>\n      <td>False</td>\n      <td>False</td>\n      <td>False</td>\n      <td>False</td>\n      <td>False</td>\n      <td>False</td>\n      <td>False</td>\n    </tr>\n    <tr>\n      <th>OCCURRED_ON_DATE</th>\n      <td>2017-02-17 17:45:00</td>\n      <td>2017-02-17 17:45:00</td>\n      <td>2017-02-17 17:45:00</td>\n      <td>2017-02-17 17:45:00</td>\n      <td>2017-02-17 17:45:00</td>\n      <td>2017-02-17 17:45:00</td>\n      <td>2017-02-17 17:45:00</td>\n      <td>2017-02-17 17:45:00</td>\n      <td>2017-02-17 17:45:00</td>\n      <td>2017-02-17 17:45:00</td>\n    </tr>\n    <tr>\n      <th>YEAR</th>\n      <td>2017</td>\n      <td>2017</td>\n      <td>2017</td>\n      <td>2017</td>\n      <td>2017</td>\n      <td>2017</td>\n      <td>2017</td>\n      <td>2017</td>\n      <td>2017</td>\n      <td>2017</td>\n    </tr>\n    <tr>\n      <th>MONTH</th>\n      <td>2</td>\n      <td>2</td>\n      <td>2</td>\n      <td>2</td>\n      <td>2</td>\n      <td>2</td>\n      <td>2</td>\n      <td>2</td>\n      <td>2</td>\n      <td>2</td>\n    </tr>\n    <tr>\n      <th>DAY_OF_WEEK</th>\n      <td>Friday</td>\n      <td>Friday</td>\n      <td>Friday</td>\n      <td>Friday</td>\n      <td>Friday</td>\n      <td>Friday</td>\n      <td>Friday</td>\n      <td>Friday</td>\n      <td>Friday</td>\n      <td>Friday</td>\n    </tr>\n    <tr>\n      <th>HOUR</th>\n      <td>17</td>\n      <td>17</td>\n      <td>17</td>\n      <td>17</td>\n      <td>17</td>\n      <td>17</td>\n      <td>17</td>\n      <td>17</td>\n      <td>17</td>\n      <td>17</td>\n    </tr>\n    <tr>\n      <th>UCR_PART</th>\n      <td>Part One</td>\n      <td>Part Two</td>\n      <td>Part Two</td>\n      <td>Part Two</td>\n      <td>Part Two</td>\n      <td>Part Three</td>\n      <td>Part Two</td>\n      <td>Part Two</td>\n      <td>Part Two</td>\n      <td>Part Two</td>\n    </tr>\n    <tr>\n      <th>STREET</th>\n      <td>HARRISON AVE</td>\n      <td>HARRISON AVE</td>\n      <td>HARRISON AVE</td>\n      <td>HARRISON AVE</td>\n      <td>HARRISON AVE</td>\n      <td>HARRISON AVE</td>\n      <td>HARRISON AVE</td>\n      <td>HARRISON AVE</td>\n      <td>HARRISON AVE</td>\n      <td>HARRISON AVE</td>\n    </tr>\n    <tr>\n      <th>Lat</th>\n      <td>42.335119</td>\n      <td>42.335119</td>\n      <td>42.335119</td>\n      <td>42.335119</td>\n      <td>42.335119</td>\n      <td>42.335119</td>\n      <td>42.335119</td>\n      <td>42.335119</td>\n      <td>42.335119</td>\n      <td>42.335119</td>\n    </tr>\n    <tr>\n      <th>Long</th>\n      <td>-71.074917</td>\n      <td>-71.074917</td>\n      <td>-71.074917</td>\n      <td>-71.074917</td>\n      <td>-71.074917</td>\n      <td>-71.074917</td>\n      <td>-71.074917</td>\n      <td>-71.074917</td>\n      <td>-71.074917</td>\n      <td>-71.074917</td>\n    </tr>\n    <tr>\n      <th>Location</th>\n      <td>(42.33511904, -71.07491710)</td>\n      <td>(42.33511904, -71.07491710)</td>\n      <td>(42.33511904, -71.07491710)</td>\n      <td>(42.33511904, -71.07491710)</td>\n      <td>(42.33511904, -71.07491710)</td>\n      <td>(42.33511904, -71.07491710)</td>\n      <td>(42.33511904, -71.07491710)</td>\n      <td>(42.33511904, -71.07491710)</td>\n      <td>(42.33511904, -71.07491710)</td>\n      <td>(42.33511904, -71.07491710)</td>\n    </tr>\n  </tbody>\n</table>\n</div>"
     },
     "metadata": {},
     "execution_count": 25
    }
   ],
   "source": [
    "crime_data[crime_data.INCIDENT_NUMBER == \"I172013170\"].head(10).T"
   ]
  },
  {
   "cell_type": "code",
   "execution_count": 35,
   "metadata": {},
   "outputs": [],
   "source": [
    "# unique incident numbers\n",
    "unique_IN = crime_data.INCIDENT_NUMBER.unique().__len__()"
   ]
  },
  {
   "cell_type": "code",
   "execution_count": 36,
   "metadata": {},
   "outputs": [],
   "source": [
    "# total incident numbers\n",
    "total_IN = crime_data.INCIDENT_NUMBER.count()"
   ]
  },
  {
   "cell_type": "code",
   "execution_count": 38,
   "metadata": {},
   "outputs": [
    {
     "output_type": "stream",
     "name": "stdout",
     "text": [
      "Unique Incidents: 282517\nTotal Incidents: 319073\n"
     ]
    }
   ],
   "source": [
    "print('Unique Incidents: ' + str(unique_IN))\n",
    "print('Total Incidents: ' + str(total_IN))"
   ]
  },
  {
   "cell_type": "code",
   "execution_count": 40,
   "metadata": {},
   "outputs": [
    {
     "output_type": "stream",
     "name": "stdout",
     "text": [
      "Percent of Duplicate Incident Numbers: 11.456939321095799\n"
     ]
    }
   ],
   "source": [
    "# percent of duplicate incidents\n",
    "percent_dup_IN = (total_IN - unique_IN) / total_IN * 100\n",
    "print('Percent of Duplicate Incident Numbers: ' + str(percent_dup_IN))"
   ]
  },
  {
   "cell_type": "code",
   "execution_count": 44,
   "metadata": {},
   "outputs": [
    {
     "output_type": "execute_result",
     "data": {
      "text/plain": [
       "(282517, 17)"
      ]
     },
     "metadata": {},
     "execution_count": 44
    }
   ],
   "source": [
    "crime_data.drop_duplicates(subset='INCIDENT_NUMBER', inplace=True, keep='first')\n",
    "crime_data.shape"
   ]
  },
  {
   "cell_type": "code",
   "execution_count": null,
   "metadata": {},
   "outputs": [],
   "source": []
  }
 ],
 "metadata": {
  "kernelspec": {
   "name": "python3",
   "display_name": "Python 3.8.8 64-bit ('base': conda)"
  },
  "language_info": {
   "codemirror_mode": {
    "name": "ipython",
    "version": 3
   },
   "file_extension": ".py",
   "mimetype": "text/x-python",
   "name": "python",
   "nbconvert_exporter": "python",
   "pygments_lexer": "ipython3",
   "version": "3.8.8"
  },
  "interpreter": {
   "hash": "b3ba2566441a7c06988d0923437866b63cedc61552a5af99d1f4fb67d367b25f"
  }
 },
 "nbformat": 4,
 "nbformat_minor": 5
}